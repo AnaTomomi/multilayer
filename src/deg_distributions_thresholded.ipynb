{
 "cells": [
  {
   "cell_type": "markdown",
   "id": "aecb1f2d",
   "metadata": {},
   "source": [
    "# Degree distributions between subjects and controls\n",
    "## FC, ISC, FISC separately"
   ]
  },
  {
   "cell_type": "code",
   "execution_count": 145,
   "id": "0dfaa650",
   "metadata": {},
   "outputs": [],
   "source": [
    "import pymnet as pn\n",
    "import pickle\n",
    "import matplotlib.pyplot as plt\n",
    "import numpy as np\n",
    "import scipy.stats"
   ]
  },
  {
   "cell_type": "code",
   "execution_count": 73,
   "id": "a8f731ee",
   "metadata": {},
   "outputs": [],
   "source": [
    "with open('/m/cs/scratch/networks/trianaa1/Paper2/multilayer/results/multilayer_net','rb') as f:\n",
    "    M = pickle.load(f)"
   ]
  },
  {
   "cell_type": "code",
   "execution_count": 138,
   "id": "9f322068",
   "metadata": {},
   "outputs": [
    {
     "data": {
      "text/plain": [
       "<pymnet.net.MultilayerNetwork at 0x7f50813fae50>"
      ]
     },
     "execution_count": 138,
     "metadata": {},
     "output_type": "execute_result"
    }
   ],
   "source": [
    "M"
   ]
  },
  {
   "cell_type": "code",
   "execution_count": 139,
   "id": "d2d7ea0f",
   "metadata": {},
   "outputs": [
    {
     "name": "stdout",
     "output_type": "stream",
     "text": [
      "Nodes:  65\n",
      "Layers:  14\n",
      "Nodelayers:  910\n",
      "Edges:  63834\n",
      "Aspects:  1\n"
     ]
    }
   ],
   "source": [
    "print('Nodes: ',len(list(M.iter_nodes())))\n",
    "print('Layers: ',len(list(M.iter_layers())))\n",
    "print('Nodelayers: ',len(list(M.iter_node_layers())))\n",
    "print('Edges: ',len(M.edges))\n",
    "print('Aspects: ',M.aspects)"
   ]
  },
  {
   "cell_type": "code",
   "execution_count": 140,
   "id": "cf677f2d",
   "metadata": {},
   "outputs": [
    {
     "name": "stdout",
     "output_type": "stream",
     "text": [
      "[0, 1, 2, 3, 4, 5, 6, 7, 8, 9, 10, 11, 12, 13]\n"
     ]
    }
   ],
   "source": [
    "print(list(M.iter_layers()))"
   ]
  },
  {
   "cell_type": "code",
   "execution_count": 141,
   "id": "56275f65",
   "metadata": {},
   "outputs": [
    {
     "name": "stdout",
     "output_type": "stream",
     "text": [
      "[0, 1, 2, 3, 4, 5, 6, 7, 8, 9, 10, 11, 12, 13, 14, 15, 16, 17, 18, 19, 20, 21, 22, 23, 24, 25, 26, 27, 28, 29, 30, 31, 32, 33, 34, 35, 36, 37, 38, 39, 40, 41, 42, 43, 44, 45, 46, 47, 48, 49, 50, 51, 52, 53, 54, 55, 56, 57, 58, 59, 60, 61, 62, 63, 64]\n"
     ]
    }
   ],
   "source": [
    "print(list(M.iter_nodes()))"
   ]
  },
  {
   "cell_type": "code",
   "execution_count": 142,
   "id": "f1db8ff4",
   "metadata": {},
   "outputs": [],
   "source": [
    "subjects = list(range(0,36))\n",
    "controls = list(range(36,65))"
   ]
  },
  {
   "cell_type": "code",
   "execution_count": 143,
   "id": "46b71cd9",
   "metadata": {},
   "outputs": [],
   "source": [
    "# get deg distributions, assumes nodes are subjects and layers are ROIs\n",
    "def get_deg_distributions(M):\n",
    "    fc,isc,fisc = [],[],[]\n",
    "    for nl in M.iter_node_layers():\n",
    "        fc_curr,isc_curr,fisc_curr = 0,0,0\n",
    "        for neighbor in M[nl]:\n",
    "            if nl[1] == neighbor[1]: # same layer, ISC\n",
    "                isc_curr += 1\n",
    "            elif nl[0] == neighbor[0]: # same node, diff layer, FC\n",
    "                fc_curr += 1\n",
    "            else: # diff layer, diff node, FISC\n",
    "                fisc_curr += 1\n",
    "        fc.append(fc_curr)\n",
    "        isc.append(isc_curr)\n",
    "        fisc.append(fisc_curr)\n",
    "    return fc,isc,fisc\n",
    "# subject deg distrbutions\n",
    "sub_fc, sub_isc, sub_fisc = get_deg_distributions(pn.subnet(M,subjects,M.iter_layers()))\n",
    "# control deg distributions\n",
    "c_fc, c_isc, c_fisc = get_deg_distributions(pn.subnet(M,controls,M.iter_layers()))"
   ]
  },
  {
   "cell_type": "code",
   "execution_count": 144,
   "id": "64b8b4e0",
   "metadata": {
    "scrolled": true
   },
   "outputs": [
    {
     "data": {
      "image/png": "[encoded data removed]",
      "text/plain": [
       "<Figure size 936x288 with 3 Axes>"
      ]
     },
     "metadata": {
      "needs_background": "light"
     },
     "output_type": "display_data"
    }
   ],
   "source": [
    "def plot_subj_c(sub,c,ax,labels,title,xlabel='degree'):\n",
    "    bins = range(0,max(max(sub),max(c))+1)\n",
    "    ax.hist(sub,bins=bins,label=labels[0],alpha=0.5,density=True); ax.hist(c,bins=bins,label=labels[1],alpha=0.5,density=True); ax.legend()\n",
    "    ax.set_title(title)\n",
    "    ax.set_xlabel(xlabel)\n",
    "fig,axs = plt.subplots(nrows=1,ncols=3,figsize=(13,4))\n",
    "labels = ('subjects','controls')\n",
    "plot_subj_c(sub_fc,c_fc,axs[0],labels,'FC')\n",
    "plot_subj_c(sub_isc,c_isc,axs[1],labels,'ISC')\n",
    "plot_subj_c(sub_fisc,c_fisc,axs[2],labels,'FISC')"
   ]
  },
  {
   "cell_type": "markdown",
   "id": "f7265f69",
   "metadata": {},
   "source": [
    "### Statistical tests"
   ]
  },
  {
   "cell_type": "code",
   "execution_count": 162,
   "id": "342a0fa2",
   "metadata": {},
   "outputs": [
    {
     "name": "stdout",
     "output_type": "stream",
     "text": [
      "FC: p =  0.026954409818986266\n",
      "ISC: p =  2.493451990391342e-06\n",
      "FISC: p =  2.493451990391342e-06\n"
     ]
    }
   ],
   "source": [
    "# Welch's t-test for equal means\n",
    "welch_p_fc = scipy.stats.ttest_ind(sub_fc,c_fc,equal_var=False)\n",
    "welch_p_isc = scipy.stats.ttest_ind(sub_isc,c_isc,equal_var=False)\n",
    "welch_p_fisc = scipy.stats.ttest_ind(sub_isc,c_isc,equal_var=False)\n",
    "print('FC: p = ',welch_p_fc[1])\n",
    "print('ISC: p = ',welch_p_isc[1])\n",
    "print('FISC: p = ',welch_p_fisc[1])"
   ]
  },
  {
   "cell_type": "code",
   "execution_count": 163,
   "id": "1dddebdb",
   "metadata": {},
   "outputs": [
    {
     "name": "stdout",
     "output_type": "stream",
     "text": [
      "FC: p =  0.19227957338034918\n",
      "ISC: p =  0.009807402799200338\n",
      "FISC: p =  9.044265336655144e-11\n"
     ]
    }
   ],
   "source": [
    "# Kolmogorov-Smirnov test for having been drawn from the same distribution\n",
    "ks_p_fc = scipy.stats.kstest(sub_fc,c_fc)\n",
    "ks_p_isc = scipy.stats.kstest(sub_isc,c_isc)\n",
    "ks_p_fisc = scipy.stats.kstest(sub_fisc,c_fisc)\n",
    "print('FC: p = ',ks_p_fc[1])\n",
    "print('ISC: p = ',ks_p_isc[1])\n",
    "print('FISC: p = ',ks_p_fisc[1])"
   ]
  },
  {
   "cell_type": "code",
   "execution_count": null,
   "id": "c86d5c04",
   "metadata": {},
   "outputs": [],
   "source": []
  }
 ],
 "metadata": {
  "kernelspec": {
   "display_name": "Python 3 (ipykernel)",
   "language": "python",
   "name": "python3"
  },
  "language_info": {
   "codemirror_mode": {
    "name": "ipython",
    "version": 3
   },
   "file_extension": ".py",
   "mimetype": "text/x-python",
   "name": "python",
   "nbconvert_exporter": "python",
   "pygments_lexer": "ipython3",
   "version": "3.8.10"
  }
 },
 "nbformat": 4,
 "nbformat_minor": 5
}
